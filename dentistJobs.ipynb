{
 "cells": [
  {
   "cell_type": "code",
   "execution_count": null,
   "id": "c9cf4c30",
   "metadata": {},
   "outputs": [],
   "source": [
    "def main():\n",
    "    \n",
    "    # Imorting Lib\n",
    "    import requests\n",
    "    from bs4 import BeautifulSoup\n",
    "    import pandas as pd\n",
    "    \n",
    "    # Extracting data from internet\n",
    "    def extract():\n",
    "    base_url = str(input(\"Enter the url: \"))\n",
    "    webpage = requests.get(base_url)\n",
    "    webpage = requests.get(url)\n",
    "    return webpage.content\n",
    "    \n",
    "    # Transforming\n",
    "    def transform():\n",
    "        raw = extract()\n",
    "        soup = BeautifulSoup(raw, 'html.parser')\n",
    "        divs = soup.find('div', id='mosaic-zone-jobcards')\n",
    "\n",
    "        job_title_element = divs.findAll('span', class_ = 'jobTitle')\n",
    "        jobs = [item.text for item in job_title_element]\n",
    "\n",
    "        company_elements = divs.findAll('span', class_ = 'companyName')\n",
    "        company = [item.text for item in company_elements]\n",
    "\n",
    "        location_elements = divs.findAll('div', class_ = 'companyLocation')\n",
    "        location = [item.text for item in location_elements]\n",
    "\n",
    "        trans =(jobs, company, location)\n",
    "\n",
    "        return trans\n",
    "    # Loading\n",
    "    def load():\n",
    "        raw_data = transform()\n",
    "        my_dict={'Jobs':raw_data['jobs'], 'Company':raw_data['company'], 'Location':raw_data['location']}\n",
    "        indeed_jobs = pd.DataFrame(my_dict)\n",
    "        # indeed_jobs.to_csv('indeedJobs.csv', index=False)\n",
    "        return indeed_jobs\n",
    "    \n",
    "    data = load()\n",
    "    return data"
   ]
  }
 ],
 "metadata": {
  "kernelspec": {
   "display_name": "Python 3 (ipykernel)",
   "language": "python",
   "name": "python3"
  },
  "language_info": {
   "codemirror_mode": {
    "name": "ipython",
    "version": 3
   },
   "file_extension": ".py",
   "mimetype": "text/x-python",
   "name": "python",
   "nbconvert_exporter": "python",
   "pygments_lexer": "ipython3",
   "version": "3.9.7"
  }
 },
 "nbformat": 4,
 "nbformat_minor": 5
}
